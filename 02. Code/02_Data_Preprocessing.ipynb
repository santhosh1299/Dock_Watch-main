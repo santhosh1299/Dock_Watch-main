{
  "nbformat": 4,
  "nbformat_minor": 0,
  "metadata": {
    "colab": {
      "provenance": [],
      "collapsed_sections": [
        "Vgk_veJcqxMC",
        "uuF0nw2FvxIO"
      ]
    },
    "kernelspec": {
      "name": "python3",
      "display_name": "Python 3"
    },
    "language_info": {
      "name": "python"
    }
  },
  "cells": [
    {
      "cell_type": "code",
      "execution_count": null,
      "metadata": {
        "id": "DIBZdbRlqdms"
      },
      "outputs": [],
      "source": [
        "import pandas as pd\n",
        "import numpy as np\n",
        "import datetime"
      ]
    },
    {
      "cell_type": "markdown",
      "source": [
        "# 1. Combine all available master data"
      ],
      "metadata": {
        "id": "Vgk_veJcqxMC"
      }
    },
    {
      "cell_type": "code",
      "source": [
        "df1= pd.read_csv('/content/drive/MyDrive/CSCI 5502 Data Mining/01 Project/Data/00_Master_Data/01_Bcycle_data_to_date_Start_11_23.csv')\n",
        "df2= pd.read_csv('/content/drive/MyDrive/CSCI 5502 Data Mining/01 Project/Data/00_Master_Data/Bcycle_data_to_date_11_26_12_07.csv')"
      ],
      "metadata": {
        "id": "uy_dOH9EqmgO"
      },
      "execution_count": null,
      "outputs": []
    },
    {
      "cell_type": "code",
      "source": [
        "print(1,'-> Min:',min(df1['datatime_mtd']),'-> Max:',max(df1['datatime_mtd']))\n",
        "print(2,'-> Min:',min(df2['datatime_mtd']),'-> Max:',max(df2['datatime_mtd']))"
      ],
      "metadata": {
        "colab": {
          "base_uri": "https://localhost:8080/"
        },
        "id": "WWJEFXxCrPxM",
        "outputId": "3c1689ed-c24a-41a2-fcaf-24c293274b5c"
      },
      "execution_count": null,
      "outputs": [
        {
          "output_type": "stream",
          "name": "stdout",
          "text": [
            "1 -> Min: 10-16-23 19:45:03 -> Max: 11-23-23 15:26:27\n",
            "2 -> Min: 11-26-23 10:55:09 -> Max: 12-07-23 14:22:19\n"
          ]
        }
      ]
    },
    {
      "cell_type": "code",
      "source": [
        "df1['datatime_mtd'] = pd.to_datetime(df1['datatime_mtd'], format='%m-%d-%y %H:%M:%S')\n",
        "df1['datatime_mtd'].dt.date.unique()"
      ],
      "metadata": {
        "colab": {
          "base_uri": "https://localhost:8080/"
        },
        "id": "AkayzzcG4cx7",
        "outputId": "7f9e9f35-b5b3-4561-f339-6ecea18b1e29"
      },
      "execution_count": null,
      "outputs": [
        {
          "output_type": "execute_result",
          "data": {
            "text/plain": [
              "array([datetime.date(2023, 10, 16), datetime.date(2023, 10, 17),\n",
              "       datetime.date(2023, 10, 18), datetime.date(2023, 10, 19),\n",
              "       datetime.date(2023, 10, 30), datetime.date(2023, 10, 31),\n",
              "       datetime.date(2023, 11, 1), datetime.date(2023, 11, 2),\n",
              "       datetime.date(2023, 11, 3), datetime.date(2023, 11, 4),\n",
              "       datetime.date(2023, 11, 5), datetime.date(2023, 11, 6),\n",
              "       datetime.date(2023, 11, 7), datetime.date(2023, 11, 8),\n",
              "       datetime.date(2023, 11, 9), datetime.date(2023, 11, 10),\n",
              "       datetime.date(2023, 11, 14), datetime.date(2023, 11, 15),\n",
              "       datetime.date(2023, 11, 16), datetime.date(2023, 11, 17),\n",
              "       datetime.date(2023, 11, 18), datetime.date(2023, 11, 19),\n",
              "       datetime.date(2023, 11, 20), datetime.date(2023, 11, 21),\n",
              "       datetime.date(2023, 11, 22), datetime.date(2023, 11, 23)],\n",
              "      dtype=object)"
            ]
          },
          "metadata": {},
          "execution_count": 39
        }
      ]
    },
    {
      "cell_type": "code",
      "source": [
        "df2['datatime_mtd'] = pd.to_datetime(df2['datatime_mtd'], format='%m-%d-%y %H:%M:%S')\n",
        "df2['datatime_mtd'].dt.date.unique()"
      ],
      "metadata": {
        "colab": {
          "base_uri": "https://localhost:8080/"
        },
        "id": "p4uqDCqz73L8",
        "outputId": "77029e81-a52b-4111-cb45-2025650016f9"
      },
      "execution_count": null,
      "outputs": [
        {
          "output_type": "execute_result",
          "data": {
            "text/plain": [
              "array([datetime.date(2023, 11, 26), datetime.date(2023, 11, 27),\n",
              "       datetime.date(2023, 11, 28), datetime.date(2023, 11, 29),\n",
              "       datetime.date(2023, 12, 2), datetime.date(2023, 12, 3),\n",
              "       datetime.date(2023, 12, 4), datetime.date(2023, 12, 5),\n",
              "       datetime.date(2023, 12, 6), datetime.date(2023, 12, 7)],\n",
              "      dtype=object)"
            ]
          },
          "metadata": {},
          "execution_count": 40
        }
      ]
    },
    {
      "cell_type": "code",
      "source": [
        "df = pd.concat([df1,df2])\n",
        "print(\"Dates -> Min:\",min(df['datatime_mtd']),'-> Max:',max(df['datatime_mtd']))\n",
        "df.shape"
      ],
      "metadata": {
        "colab": {
          "base_uri": "https://localhost:8080/"
        },
        "id": "nIgyJ5oproYv",
        "outputId": "38509fc5-4f60-4a16-e1e3-6246e04fa69f"
      },
      "execution_count": null,
      "outputs": [
        {
          "output_type": "stream",
          "name": "stdout",
          "text": [
            "Dates -> Min: 2023-10-16 19:45:03 -> Max: 2023-12-07 14:22:19\n"
          ]
        },
        {
          "output_type": "execute_result",
          "data": {
            "text/plain": [
              "(1658556, 17)"
            ]
          },
          "metadata": {},
          "execution_count": 41
        }
      ]
    },
    {
      "cell_type": "code",
      "source": [
        "df.to_csv('/content/drive/MyDrive/CSCI 5502 Data Mining/01 Project/Data/00_Master_Data/00_Bcycle_data_to_date_Updated_Max.csv',index=False)"
      ],
      "metadata": {
        "id": "11wJxwTBv1HE"
      },
      "execution_count": null,
      "outputs": []
    },
    {
      "cell_type": "markdown",
      "source": [
        "# 2. Select days with reasonable amount of values"
      ],
      "metadata": {
        "id": "uuF0nw2FvxIO"
      }
    },
    {
      "cell_type": "code",
      "source": [
        "df= pd.read_csv('/content/drive/MyDrive/CSCI 5502 Data Mining/01 Project/Data/00_Master_Data/00_Bcycle_data_to_date_Updated_Max.csv')"
      ],
      "metadata": {
        "id": "baoRWhRbKg07"
      },
      "execution_count": null,
      "outputs": []
    },
    {
      "cell_type": "code",
      "source": [
        "df['datatime_mtd'] = pd.to_datetime(df['datatime_mtd'], format='%Y-%m-%d %H:%M:%S')\n",
        "df['datatime_mtd'].dt.date.unique()"
      ],
      "metadata": {
        "colab": {
          "base_uri": "https://localhost:8080/"
        },
        "id": "ZZfzDSLcxH0-",
        "outputId": "cce2f46b-4dad-49fb-d6a1-501de71d4808"
      },
      "execution_count": null,
      "outputs": [
        {
          "output_type": "execute_result",
          "data": {
            "text/plain": [
              "array([datetime.date(2023, 10, 16), datetime.date(2023, 10, 17),\n",
              "       datetime.date(2023, 10, 18), datetime.date(2023, 10, 19),\n",
              "       datetime.date(2023, 10, 30), datetime.date(2023, 10, 31),\n",
              "       datetime.date(2023, 11, 1), datetime.date(2023, 11, 2),\n",
              "       datetime.date(2023, 11, 3), datetime.date(2023, 11, 4),\n",
              "       datetime.date(2023, 11, 5), datetime.date(2023, 11, 6),\n",
              "       datetime.date(2023, 11, 7), datetime.date(2023, 11, 8),\n",
              "       datetime.date(2023, 11, 9), datetime.date(2023, 11, 10),\n",
              "       datetime.date(2023, 11, 14), datetime.date(2023, 11, 15),\n",
              "       datetime.date(2023, 11, 16), datetime.date(2023, 11, 17),\n",
              "       datetime.date(2023, 11, 18), datetime.date(2023, 11, 19),\n",
              "       datetime.date(2023, 11, 20), datetime.date(2023, 11, 21),\n",
              "       datetime.date(2023, 11, 22), datetime.date(2023, 11, 23),\n",
              "       datetime.date(2023, 11, 26), datetime.date(2023, 11, 27),\n",
              "       datetime.date(2023, 11, 28), datetime.date(2023, 11, 29),\n",
              "       datetime.date(2023, 12, 2), datetime.date(2023, 12, 3),\n",
              "       datetime.date(2023, 12, 4), datetime.date(2023, 12, 5),\n",
              "       datetime.date(2023, 12, 6), datetime.date(2023, 12, 7)],\n",
              "      dtype=object)"
            ]
          },
          "metadata": {},
          "execution_count": 19
        }
      ]
    },
    {
      "cell_type": "code",
      "source": [
        "# Take only the dates that have reasonable amount of data\n",
        "date_filter = [datetime.date(2023, 10, 31), datetime.date(2023, 11, 1),datetime.date(2023, 11, 2),datetime.date(2023, 11, 3),datetime.date(2023, 11, 4),datetime.date(2023, 11, 5),datetime.date(2023, 11, 6),datetime.date(2023, 11, 7),datetime.date(2023, 11, 8),datetime.date(2023, 11, 9),datetime.date(2023, 11, 10),datetime.date(2023, 11, 14),datetime.date(2023, 11, 17),datetime.date(2023, 11, 18),datetime.date(2023, 11, 19),datetime.date(2023, 11, 20),datetime.date(2023, 11, 21),datetime.date(2023, 11, 22),datetime.date(2023, 11, 23),datetime.date(2023, 11, 24),datetime.date(2023, 11, 25),datetime.date(2023, 11, 26),datetime.date(2023, 11, 27),datetime.date(2023, 11, 28),datetime.date(2023, 11, 29),datetime.date(2023, 12, 2), datetime.date(2023, 12, 3), datetime.date(2023, 12, 4), datetime.date(2023, 12, 5), datetime.date(2023, 12, 6), datetime.date(2023, 12, 7)]\n",
        "\n",
        "# Fix the datetime column format\n",
        "df['datatime_mtd'] = pd.to_datetime(df['datatime_mtd'], format='%m-%d-%y %H:%M:%S')\n",
        "\n",
        "df_filtered= df[df['datatime_mtd'].dt.date.isin(date_filter)]\n",
        "df_filtered['datatime_mtd'].dt.date.unique()"
      ],
      "metadata": {
        "colab": {
          "base_uri": "https://localhost:8080/"
        },
        "id": "7W5mzSU-wiiC",
        "outputId": "4332258a-1b07-4f3c-cb1a-eb2df029e5ba"
      },
      "execution_count": null,
      "outputs": [
        {
          "output_type": "execute_result",
          "data": {
            "text/plain": [
              "array([datetime.date(2023, 10, 31), datetime.date(2023, 11, 1),\n",
              "       datetime.date(2023, 11, 2), datetime.date(2023, 11, 3),\n",
              "       datetime.date(2023, 11, 4), datetime.date(2023, 11, 5),\n",
              "       datetime.date(2023, 11, 6), datetime.date(2023, 11, 7),\n",
              "       datetime.date(2023, 11, 8), datetime.date(2023, 11, 9),\n",
              "       datetime.date(2023, 11, 10), datetime.date(2023, 11, 14),\n",
              "       datetime.date(2023, 11, 17), datetime.date(2023, 11, 18),\n",
              "       datetime.date(2023, 11, 19), datetime.date(2023, 11, 20),\n",
              "       datetime.date(2023, 11, 21), datetime.date(2023, 11, 22),\n",
              "       datetime.date(2023, 11, 23), datetime.date(2023, 11, 26),\n",
              "       datetime.date(2023, 11, 27), datetime.date(2023, 11, 28),\n",
              "       datetime.date(2023, 11, 29), datetime.date(2023, 12, 2),\n",
              "       datetime.date(2023, 12, 3), datetime.date(2023, 12, 4),\n",
              "       datetime.date(2023, 12, 5), datetime.date(2023, 12, 6),\n",
              "       datetime.date(2023, 12, 7)], dtype=object)"
            ]
          },
          "metadata": {},
          "execution_count": 20
        }
      ]
    },
    {
      "cell_type": "markdown",
      "source": [
        "# 3. Create CU Class Status Column"
      ],
      "metadata": {
        "id": "j2pfLLdCxcF-"
      }
    },
    {
      "cell_type": "code",
      "source": [
        "data = df_filtered.copy()"
      ],
      "metadata": {
        "id": "3H4uLuUbH7XS"
      },
      "execution_count": null,
      "outputs": []
    },
    {
      "cell_type": "code",
      "source": [
        "data['datatime_mtd'] = pd.to_datetime(data['datatime_mtd'], format='%m-%d-%y %H:%M:%S')\n",
        "\n",
        "# Fill other holidays\n",
        "def external_holidays(date_):  # Returns \"No Class\" if weekends, \"No Class\" if other holidays and \"Regular\" otherwise\n",
        "  if(date_.day_name() == 'Sunday' or date_.day_name() == 'Saturday'):\n",
        "    return 'No Class'\n",
        "  elif(date_ >= datetime.date(2023, 11, 18) and date_ <= datetime.date(2023, 11, 26)):\n",
        "    return 'No Class'\n",
        "  else:\n",
        "    return \"Regular\"\n",
        "\n",
        "data['cu_class_status'] = data['datatime_mtd'].apply(external_holidays)\n",
        "data['cu_class_status'].value_counts()"
      ],
      "metadata": {
        "colab": {
          "base_uri": "https://localhost:8080/"
        },
        "id": "1NQ2stk8xeGF",
        "outputId": "ec8a870d-d53a-4ebd-ba66-31d869cbe596"
      },
      "execution_count": null,
      "outputs": [
        {
          "output_type": "stream",
          "name": "stderr",
          "text": [
            "<ipython-input-22-16bc84289baf>:7: FutureWarning: Comparison of Timestamp with datetime.date is deprecated in order to match the standard library behavior. In a future version these will be considered non-comparable. Use 'ts == pd.Timestamp(date)' or 'ts.date() == date' instead.\n",
            "  elif(date_ >= datetime.date(2023, 11, 18) and date_ <= datetime.date(2023, 11, 26)):\n"
          ]
        },
        {
          "output_type": "execute_result",
          "data": {
            "text/plain": [
              "Regular     1095876\n",
              "No Class     467964\n",
              "Name: cu_class_status, dtype: int64"
            ]
          },
          "metadata": {},
          "execution_count": 22
        }
      ]
    },
    {
      "cell_type": "code",
      "source": [
        "data.shape"
      ],
      "metadata": {
        "colab": {
          "base_uri": "https://localhost:8080/"
        },
        "id": "Dp8IVXZ_9W-4",
        "outputId": "6bf3eb4a-79a8-4b98-c39a-1c2d25c11f4b"
      },
      "execution_count": null,
      "outputs": [
        {
          "output_type": "execute_result",
          "data": {
            "text/plain": [
              "(1563840, 18)"
            ]
          },
          "metadata": {},
          "execution_count": 23
        }
      ]
    },
    {
      "cell_type": "markdown",
      "source": [
        "#4. Handle the impact of missing dates\n"
      ],
      "metadata": {
        "id": "V0PZ4BGLTZTZ"
      }
    },
    {
      "cell_type": "code",
      "source": [
        "df= data.copy()\n",
        "df.shape"
      ],
      "metadata": {
        "id": "eZgSaO42TcOS",
        "colab": {
          "base_uri": "https://localhost:8080/"
        },
        "outputId": "d7d11ab4-eb7c-4d8d-ba02-dbc62bede83f"
      },
      "execution_count": null,
      "outputs": [
        {
          "output_type": "execute_result",
          "data": {
            "text/plain": [
              "(1563840, 18)"
            ]
          },
          "metadata": {},
          "execution_count": 24
        }
      ]
    },
    {
      "cell_type": "markdown",
      "source": [
        "Format, roundoff and remove duplicate Datetime first"
      ],
      "metadata": {
        "id": "0K1_hUZ-Uc80"
      }
    },
    {
      "cell_type": "code",
      "source": [
        "# Fix the datetime column format\n",
        "df['datatime_mtd'] = pd.to_datetime(df['datatime_mtd'], format='%m-%d-%y %H:%M:%S')\n",
        "\n",
        "# Round off the datatime to the previous ideal time interval (3 or 1 min)\n",
        "time_interval_to_round= 3\n",
        "df['datatime_mtd'] = pd.to_datetime(df['datatime_mtd'], format='%Y-%m-%d %H:%M:%S')\n",
        "df['datatime_rnd'] = df['datatime_mtd'].apply(lambda x: x - pd.to_timedelta(x.minute % time_interval_to_round, unit='m') - pd.to_timedelta(x.second, unit='s')) # This rounds off the minute and makes the seconds zero\n",
        "\n",
        "# Remove duplicates\n",
        "df.drop_duplicates(subset=['station_id', 'datatime_rnd'], keep='first', inplace=True)\n",
        "  # print(\"Number of duplicates:\", df.duplicated(subset=['station_id', 'datatime_rnd']).sum()) # To check duplicates\n",
        "  # print(\"Number of duplicates per combination:\\n\\n\", df.groupby(['station_id', 'datatime_rnd']).size().reset_index(name='count_of_duplicates').sort_values(by='count_of_duplicates', ascending=False)) # To check duplicates per combination\n",
        "'''\n",
        "  #Alternate way: Just make the seconds zero and multiply the numerator of minute divided by [req_time_interval] with [req_time_interval]\n",
        "\n",
        "  req_time_interval= 3\n",
        "  df[min_rounded] = int(df['min']/req_time_interval) * req_time_interval\n",
        "'''\n",
        "# Split dates and times of from the rounded off datatime\n",
        "\n",
        "df['date_rnd']= df['datatime_rnd'].dt.date\n",
        "df['year_rnd'] = df['datatime_rnd'].dt.year\n",
        "df['month_rnd'] = df['datatime_rnd'].dt.month\n",
        "df['day_rnd'] = df['datatime_rnd'].dt.day\n",
        "df['day_of_week_rnd'] = df['datatime_rnd'].dt.day_name()\n",
        "df['time_rnd']= df['datatime_rnd'].dt.time\n",
        "df['hour_rnd'] = df['datatime_rnd'].dt.hour\n",
        "df['minute_rnd'] = df['datatime_rnd'].dt.minute\n",
        "df['second_rnd'] = df['datatime_rnd'].dt.second\n",
        "\n",
        "df.head(5)"
      ],
      "metadata": {
        "colab": {
          "base_uri": "https://localhost:8080/",
          "height": 360
        },
        "id": "vUQkyjnmUZAy",
        "outputId": "d0e77943-1723-496b-c8f2-56ecdb522042"
      },
      "execution_count": null,
      "outputs": [
        {
          "output_type": "execute_result",
          "data": {
            "text/plain": [
              "       station_last_updated  status_last_reported           station_id  \\\n",
              "76518            1698732017            1698732020  bcycle_boulder_1855   \n",
              "76519            1698732017            1698732020  bcycle_boulder_1858   \n",
              "76520            1698732017            1698732020  bcycle_boulder_1859   \n",
              "76521            1698732017            1698732020  bcycle_boulder_1860   \n",
              "76522            1698732017            1698732020  bcycle_boulder_1861   \n",
              "\n",
              "            station_name                 station_address  station_longitude  \\\n",
              "76518  Folsom & Colorado  SE corner of Folsom & Colorado         -105.26385   \n",
              "76519       15th & Pearl      15th Street & Pearl Street         -105.27584   \n",
              "76520       11th & Pearl     11th Street & Pearl Street          -105.28116   \n",
              "76521      13th & Spruce     13th Street & Spruce Street         -105.27890   \n",
              "76522  UCAR Center Green         3080 Center Green Drive         -105.24611   \n",
              "\n",
              "       station_latitude  station_is_returning  station_is_renting  \\\n",
              "76518          40.00811                     1                   1   \n",
              "76519          40.01872                     1                   1   \n",
              "76520          40.01747                     1                   1   \n",
              "76521          40.01909                     1                   1   \n",
              "76522          40.03154                     1                   1   \n",
              "\n",
              "       station_is_installed  ... datatime_rnd    date_rnd  year_rnd  \\\n",
              "76518                     1  ...   2023-10-31  2023-10-31      2023   \n",
              "76519                     1  ...   2023-10-31  2023-10-31      2023   \n",
              "76520                     1  ...   2023-10-31  2023-10-31      2023   \n",
              "76521                     1  ...   2023-10-31  2023-10-31      2023   \n",
              "76522                     1  ...   2023-10-31  2023-10-31      2023   \n",
              "\n",
              "       month_rnd  day_rnd  day_of_week_rnd  time_rnd hour_rnd minute_rnd  \\\n",
              "76518         10       31          Tuesday  00:00:00        0          0   \n",
              "76519         10       31          Tuesday  00:00:00        0          0   \n",
              "76520         10       31          Tuesday  00:00:00        0          0   \n",
              "76521         10       31          Tuesday  00:00:00        0          0   \n",
              "76522         10       31          Tuesday  00:00:00        0          0   \n",
              "\n",
              "      second_rnd  \n",
              "76518          0  \n",
              "76519          0  \n",
              "76520          0  \n",
              "76521          0  \n",
              "76522          0  \n",
              "\n",
              "[5 rows x 28 columns]"
            ],
            "text/html": [
              "\n",
              "  <div id=\"df-2a169c28-0a5d-4915-902f-a22d62a07ba6\" class=\"colab-df-container\">\n",
              "    <div>\n",
              "<style scoped>\n",
              "    .dataframe tbody tr th:only-of-type {\n",
              "        vertical-align: middle;\n",
              "    }\n",
              "\n",
              "    .dataframe tbody tr th {\n",
              "        vertical-align: top;\n",
              "    }\n",
              "\n",
              "    .dataframe thead th {\n",
              "        text-align: right;\n",
              "    }\n",
              "</style>\n",
              "<table border=\"1\" class=\"dataframe\">\n",
              "  <thead>\n",
              "    <tr style=\"text-align: right;\">\n",
              "      <th></th>\n",
              "      <th>station_last_updated</th>\n",
              "      <th>status_last_reported</th>\n",
              "      <th>station_id</th>\n",
              "      <th>station_name</th>\n",
              "      <th>station_address</th>\n",
              "      <th>station_longitude</th>\n",
              "      <th>station_latitude</th>\n",
              "      <th>station_is_returning</th>\n",
              "      <th>station_is_renting</th>\n",
              "      <th>station_is_installed</th>\n",
              "      <th>...</th>\n",
              "      <th>datatime_rnd</th>\n",
              "      <th>date_rnd</th>\n",
              "      <th>year_rnd</th>\n",
              "      <th>month_rnd</th>\n",
              "      <th>day_rnd</th>\n",
              "      <th>day_of_week_rnd</th>\n",
              "      <th>time_rnd</th>\n",
              "      <th>hour_rnd</th>\n",
              "      <th>minute_rnd</th>\n",
              "      <th>second_rnd</th>\n",
              "    </tr>\n",
              "  </thead>\n",
              "  <tbody>\n",
              "    <tr>\n",
              "      <th>76518</th>\n",
              "      <td>1698732017</td>\n",
              "      <td>1698732020</td>\n",
              "      <td>bcycle_boulder_1855</td>\n",
              "      <td>Folsom &amp; Colorado</td>\n",
              "      <td>SE corner of Folsom &amp; Colorado</td>\n",
              "      <td>-105.26385</td>\n",
              "      <td>40.00811</td>\n",
              "      <td>1</td>\n",
              "      <td>1</td>\n",
              "      <td>1</td>\n",
              "      <td>...</td>\n",
              "      <td>2023-10-31</td>\n",
              "      <td>2023-10-31</td>\n",
              "      <td>2023</td>\n",
              "      <td>10</td>\n",
              "      <td>31</td>\n",
              "      <td>Tuesday</td>\n",
              "      <td>00:00:00</td>\n",
              "      <td>0</td>\n",
              "      <td>0</td>\n",
              "      <td>0</td>\n",
              "    </tr>\n",
              "    <tr>\n",
              "      <th>76519</th>\n",
              "      <td>1698732017</td>\n",
              "      <td>1698732020</td>\n",
              "      <td>bcycle_boulder_1858</td>\n",
              "      <td>15th &amp; Pearl</td>\n",
              "      <td>15th Street &amp; Pearl Street</td>\n",
              "      <td>-105.27584</td>\n",
              "      <td>40.01872</td>\n",
              "      <td>1</td>\n",
              "      <td>1</td>\n",
              "      <td>1</td>\n",
              "      <td>...</td>\n",
              "      <td>2023-10-31</td>\n",
              "      <td>2023-10-31</td>\n",
              "      <td>2023</td>\n",
              "      <td>10</td>\n",
              "      <td>31</td>\n",
              "      <td>Tuesday</td>\n",
              "      <td>00:00:00</td>\n",
              "      <td>0</td>\n",
              "      <td>0</td>\n",
              "      <td>0</td>\n",
              "    </tr>\n",
              "    <tr>\n",
              "      <th>76520</th>\n",
              "      <td>1698732017</td>\n",
              "      <td>1698732020</td>\n",
              "      <td>bcycle_boulder_1859</td>\n",
              "      <td>11th &amp; Pearl</td>\n",
              "      <td>11th Street &amp; Pearl Street</td>\n",
              "      <td>-105.28116</td>\n",
              "      <td>40.01747</td>\n",
              "      <td>1</td>\n",
              "      <td>1</td>\n",
              "      <td>1</td>\n",
              "      <td>...</td>\n",
              "      <td>2023-10-31</td>\n",
              "      <td>2023-10-31</td>\n",
              "      <td>2023</td>\n",
              "      <td>10</td>\n",
              "      <td>31</td>\n",
              "      <td>Tuesday</td>\n",
              "      <td>00:00:00</td>\n",
              "      <td>0</td>\n",
              "      <td>0</td>\n",
              "      <td>0</td>\n",
              "    </tr>\n",
              "    <tr>\n",
              "      <th>76521</th>\n",
              "      <td>1698732017</td>\n",
              "      <td>1698732020</td>\n",
              "      <td>bcycle_boulder_1860</td>\n",
              "      <td>13th &amp; Spruce</td>\n",
              "      <td>13th Street &amp; Spruce Street</td>\n",
              "      <td>-105.27890</td>\n",
              "      <td>40.01909</td>\n",
              "      <td>1</td>\n",
              "      <td>1</td>\n",
              "      <td>1</td>\n",
              "      <td>...</td>\n",
              "      <td>2023-10-31</td>\n",
              "      <td>2023-10-31</td>\n",
              "      <td>2023</td>\n",
              "      <td>10</td>\n",
              "      <td>31</td>\n",
              "      <td>Tuesday</td>\n",
              "      <td>00:00:00</td>\n",
              "      <td>0</td>\n",
              "      <td>0</td>\n",
              "      <td>0</td>\n",
              "    </tr>\n",
              "    <tr>\n",
              "      <th>76522</th>\n",
              "      <td>1698732017</td>\n",
              "      <td>1698732020</td>\n",
              "      <td>bcycle_boulder_1861</td>\n",
              "      <td>UCAR Center Green</td>\n",
              "      <td>3080 Center Green Drive</td>\n",
              "      <td>-105.24611</td>\n",
              "      <td>40.03154</td>\n",
              "      <td>1</td>\n",
              "      <td>1</td>\n",
              "      <td>1</td>\n",
              "      <td>...</td>\n",
              "      <td>2023-10-31</td>\n",
              "      <td>2023-10-31</td>\n",
              "      <td>2023</td>\n",
              "      <td>10</td>\n",
              "      <td>31</td>\n",
              "      <td>Tuesday</td>\n",
              "      <td>00:00:00</td>\n",
              "      <td>0</td>\n",
              "      <td>0</td>\n",
              "      <td>0</td>\n",
              "    </tr>\n",
              "  </tbody>\n",
              "</table>\n",
              "<p>5 rows × 28 columns</p>\n",
              "</div>\n",
              "    <div class=\"colab-df-buttons\">\n",
              "\n",
              "  <div class=\"colab-df-container\">\n",
              "    <button class=\"colab-df-convert\" onclick=\"convertToInteractive('df-2a169c28-0a5d-4915-902f-a22d62a07ba6')\"\n",
              "            title=\"Convert this dataframe to an interactive table.\"\n",
              "            style=\"display:none;\">\n",
              "\n",
              "  <svg xmlns=\"http://www.w3.org/2000/svg\" height=\"24px\" viewBox=\"0 -960 960 960\">\n",
              "    <path d=\"M120-120v-720h720v720H120Zm60-500h600v-160H180v160Zm220 220h160v-160H400v160Zm0 220h160v-160H400v160ZM180-400h160v-160H180v160Zm440 0h160v-160H620v160ZM180-180h160v-160H180v160Zm440 0h160v-160H620v160Z\"/>\n",
              "  </svg>\n",
              "    </button>\n",
              "\n",
              "  <style>\n",
              "    .colab-df-container {\n",
              "      display:flex;\n",
              "      gap: 12px;\n",
              "    }\n",
              "\n",
              "    .colab-df-convert {\n",
              "      background-color: #E8F0FE;\n",
              "      border: none;\n",
              "      border-radius: 50%;\n",
              "      cursor: pointer;\n",
              "      display: none;\n",
              "      fill: #1967D2;\n",
              "      height: 32px;\n",
              "      padding: 0 0 0 0;\n",
              "      width: 32px;\n",
              "    }\n",
              "\n",
              "    .colab-df-convert:hover {\n",
              "      background-color: #E2EBFA;\n",
              "      box-shadow: 0px 1px 2px rgba(60, 64, 67, 0.3), 0px 1px 3px 1px rgba(60, 64, 67, 0.15);\n",
              "      fill: #174EA6;\n",
              "    }\n",
              "\n",
              "    .colab-df-buttons div {\n",
              "      margin-bottom: 4px;\n",
              "    }\n",
              "\n",
              "    [theme=dark] .colab-df-convert {\n",
              "      background-color: #3B4455;\n",
              "      fill: #D2E3FC;\n",
              "    }\n",
              "\n",
              "    [theme=dark] .colab-df-convert:hover {\n",
              "      background-color: #434B5C;\n",
              "      box-shadow: 0px 1px 3px 1px rgba(0, 0, 0, 0.15);\n",
              "      filter: drop-shadow(0px 1px 2px rgba(0, 0, 0, 0.3));\n",
              "      fill: #FFFFFF;\n",
              "    }\n",
              "  </style>\n",
              "\n",
              "    <script>\n",
              "      const buttonEl =\n",
              "        document.querySelector('#df-2a169c28-0a5d-4915-902f-a22d62a07ba6 button.colab-df-convert');\n",
              "      buttonEl.style.display =\n",
              "        google.colab.kernel.accessAllowed ? 'block' : 'none';\n",
              "\n",
              "      async function convertToInteractive(key) {\n",
              "        const element = document.querySelector('#df-2a169c28-0a5d-4915-902f-a22d62a07ba6');\n",
              "        const dataTable =\n",
              "          await google.colab.kernel.invokeFunction('convertToInteractive',\n",
              "                                                    [key], {});\n",
              "        if (!dataTable) return;\n",
              "\n",
              "        const docLinkHtml = 'Like what you see? Visit the ' +\n",
              "          '<a target=\"_blank\" href=https://colab.research.google.com/notebooks/data_table.ipynb>data table notebook</a>'\n",
              "          + ' to learn more about interactive tables.';\n",
              "        element.innerHTML = '';\n",
              "        dataTable['output_type'] = 'display_data';\n",
              "        await google.colab.output.renderOutput(dataTable, element);\n",
              "        const docLink = document.createElement('div');\n",
              "        docLink.innerHTML = docLinkHtml;\n",
              "        element.appendChild(docLink);\n",
              "      }\n",
              "    </script>\n",
              "  </div>\n",
              "\n",
              "\n",
              "<div id=\"df-32249d56-95fd-483c-a5fe-7cafdf7b3a47\">\n",
              "  <button class=\"colab-df-quickchart\" onclick=\"quickchart('df-32249d56-95fd-483c-a5fe-7cafdf7b3a47')\"\n",
              "            title=\"Suggest charts\"\n",
              "            style=\"display:none;\">\n",
              "\n",
              "<svg xmlns=\"http://www.w3.org/2000/svg\" height=\"24px\"viewBox=\"0 0 24 24\"\n",
              "     width=\"24px\">\n",
              "    <g>\n",
              "        <path d=\"M19 3H5c-1.1 0-2 .9-2 2v14c0 1.1.9 2 2 2h14c1.1 0 2-.9 2-2V5c0-1.1-.9-2-2-2zM9 17H7v-7h2v7zm4 0h-2V7h2v10zm4 0h-2v-4h2v4z\"/>\n",
              "    </g>\n",
              "</svg>\n",
              "  </button>\n",
              "\n",
              "<style>\n",
              "  .colab-df-quickchart {\n",
              "      --bg-color: #E8F0FE;\n",
              "      --fill-color: #1967D2;\n",
              "      --hover-bg-color: #E2EBFA;\n",
              "      --hover-fill-color: #174EA6;\n",
              "      --disabled-fill-color: #AAA;\n",
              "      --disabled-bg-color: #DDD;\n",
              "  }\n",
              "\n",
              "  [theme=dark] .colab-df-quickchart {\n",
              "      --bg-color: #3B4455;\n",
              "      --fill-color: #D2E3FC;\n",
              "      --hover-bg-color: #434B5C;\n",
              "      --hover-fill-color: #FFFFFF;\n",
              "      --disabled-bg-color: #3B4455;\n",
              "      --disabled-fill-color: #666;\n",
              "  }\n",
              "\n",
              "  .colab-df-quickchart {\n",
              "    background-color: var(--bg-color);\n",
              "    border: none;\n",
              "    border-radius: 50%;\n",
              "    cursor: pointer;\n",
              "    display: none;\n",
              "    fill: var(--fill-color);\n",
              "    height: 32px;\n",
              "    padding: 0;\n",
              "    width: 32px;\n",
              "  }\n",
              "\n",
              "  .colab-df-quickchart:hover {\n",
              "    background-color: var(--hover-bg-color);\n",
              "    box-shadow: 0 1px 2px rgba(60, 64, 67, 0.3), 0 1px 3px 1px rgba(60, 64, 67, 0.15);\n",
              "    fill: var(--button-hover-fill-color);\n",
              "  }\n",
              "\n",
              "  .colab-df-quickchart-complete:disabled,\n",
              "  .colab-df-quickchart-complete:disabled:hover {\n",
              "    background-color: var(--disabled-bg-color);\n",
              "    fill: var(--disabled-fill-color);\n",
              "    box-shadow: none;\n",
              "  }\n",
              "\n",
              "  .colab-df-spinner {\n",
              "    border: 2px solid var(--fill-color);\n",
              "    border-color: transparent;\n",
              "    border-bottom-color: var(--fill-color);\n",
              "    animation:\n",
              "      spin 1s steps(1) infinite;\n",
              "  }\n",
              "\n",
              "  @keyframes spin {\n",
              "    0% {\n",
              "      border-color: transparent;\n",
              "      border-bottom-color: var(--fill-color);\n",
              "      border-left-color: var(--fill-color);\n",
              "    }\n",
              "    20% {\n",
              "      border-color: transparent;\n",
              "      border-left-color: var(--fill-color);\n",
              "      border-top-color: var(--fill-color);\n",
              "    }\n",
              "    30% {\n",
              "      border-color: transparent;\n",
              "      border-left-color: var(--fill-color);\n",
              "      border-top-color: var(--fill-color);\n",
              "      border-right-color: var(--fill-color);\n",
              "    }\n",
              "    40% {\n",
              "      border-color: transparent;\n",
              "      border-right-color: var(--fill-color);\n",
              "      border-top-color: var(--fill-color);\n",
              "    }\n",
              "    60% {\n",
              "      border-color: transparent;\n",
              "      border-right-color: var(--fill-color);\n",
              "    }\n",
              "    80% {\n",
              "      border-color: transparent;\n",
              "      border-right-color: var(--fill-color);\n",
              "      border-bottom-color: var(--fill-color);\n",
              "    }\n",
              "    90% {\n",
              "      border-color: transparent;\n",
              "      border-bottom-color: var(--fill-color);\n",
              "    }\n",
              "  }\n",
              "</style>\n",
              "\n",
              "  <script>\n",
              "    async function quickchart(key) {\n",
              "      const quickchartButtonEl =\n",
              "        document.querySelector('#' + key + ' button');\n",
              "      quickchartButtonEl.disabled = true;  // To prevent multiple clicks.\n",
              "      quickchartButtonEl.classList.add('colab-df-spinner');\n",
              "      try {\n",
              "        const charts = await google.colab.kernel.invokeFunction(\n",
              "            'suggestCharts', [key], {});\n",
              "      } catch (error) {\n",
              "        console.error('Error during call to suggestCharts:', error);\n",
              "      }\n",
              "      quickchartButtonEl.classList.remove('colab-df-spinner');\n",
              "      quickchartButtonEl.classList.add('colab-df-quickchart-complete');\n",
              "    }\n",
              "    (() => {\n",
              "      let quickchartButtonEl =\n",
              "        document.querySelector('#df-32249d56-95fd-483c-a5fe-7cafdf7b3a47 button');\n",
              "      quickchartButtonEl.style.display =\n",
              "        google.colab.kernel.accessAllowed ? 'block' : 'none';\n",
              "    })();\n",
              "  </script>\n",
              "</div>\n",
              "    </div>\n",
              "  </div>\n"
            ]
          },
          "metadata": {},
          "execution_count": 25
        }
      ]
    },
    {
      "cell_type": "code",
      "source": [
        "df.shape"
      ],
      "metadata": {
        "colab": {
          "base_uri": "https://localhost:8080/"
        },
        "id": "A3SNXuoi9iI4",
        "outputId": "c5f009c0-73e0-42b5-c0f3-32d70dbdc7aa"
      },
      "execution_count": null,
      "outputs": [
        {
          "output_type": "execute_result",
          "data": {
            "text/plain": [
              "(640926, 28)"
            ]
          },
          "metadata": {},
          "execution_count": 26
        }
      ]
    },
    {
      "cell_type": "markdown",
      "source": [
        "Select only continuously available (every 60mins interval) datatimes"
      ],
      "metadata": {
        "id": "J1-H6qInfXwL"
      }
    },
    {
      "cell_type": "code",
      "source": [
        "def extract_continuous_datetime(time_buffer_mins,datetime_list):\n",
        "  continuous_datetimes=[]\n",
        "  parts=[]\n",
        "  for i in range(len(datetime_list)-1):\n",
        "    if(i==len(datetime_list)-2):\n",
        "      parts.append(datetime_list[i])\n",
        "      parts.append(datetime_list[i+1])\n",
        "      continuous_datetimes.append(parts)\n",
        "      break\n",
        "    if(datetime_list[i+1]-datetime_list[i]<=np.timedelta64(time_buffer_mins, 'm')):\n",
        "      parts.append(datetime_list[i])\n",
        "    else:\n",
        "      parts.append(datetime_list[i])\n",
        "      continuous_datetimes.append(parts)\n",
        "      parts=[]\n",
        "  return continuous_datetimes\n",
        "\n",
        "time_buffer_mins=60\n",
        "datetime_list= df['datatime_rnd'].unique()\n",
        "continuous_datetimes = extract_continuous_datetime(time_buffer_mins,datetime_list)\n",
        "#continuous_datetimes"
      ],
      "metadata": {
        "id": "RQWFKzvVficc"
      },
      "execution_count": null,
      "outputs": []
    },
    {
      "cell_type": "code",
      "source": [
        "len(continuous_datetimes)"
      ],
      "metadata": {
        "colab": {
          "base_uri": "https://localhost:8080/"
        },
        "id": "3J8XgMLd65-1",
        "outputId": "5d119248-0ee5-43be-be78-8a7e1287e2fc"
      },
      "execution_count": null,
      "outputs": [
        {
          "output_type": "execute_result",
          "data": {
            "text/plain": [
              "7"
            ]
          },
          "metadata": {},
          "execution_count": 28
        }
      ]
    },
    {
      "cell_type": "markdown",
      "source": [
        "For every continuously available data, seperately calculate new cycles and docks available, next_avl_bike_timeand next_avl_dock_time, and wait times"
      ],
      "metadata": {
        "id": "CtiyUFiLiPgu"
      }
    },
    {
      "cell_type": "code",
      "source": [
        "# Add station capacity = docks + bikes available\n",
        "df['station_capacity']= df['docks_available'] + df['bikes_available']\n",
        "\n",
        "# Sort the date by datetime\n",
        "df = df.sort_values(by='datatime_mtd')\n",
        "\n",
        "final_data= pd.DataFrame()\n",
        "df_backup= df.copy()\n",
        "data_all= df.copy()\n",
        "for datetimes in continuous_datetimes:\n",
        "  df=data_all[data_all['datatime_rnd'].isin(datetimes)]\n",
        "  grouped_df = df.groupby(['station_id', 'datatime_mtd']).agg({'docks_available': 'sum', 'bikes_available': 'sum'}).reset_index()\n",
        "\n",
        "  # Calculate the differences with the previous row and handle the cases when it's NULL or <= 0\n",
        "  grouped_df['new_docks_available'] = grouped_df['docks_available'].diff().fillna(0).clip(lower=0).astype(int)\n",
        "  grouped_df['new_bikes_available'] = grouped_df['bikes_available'].diff().fillna(0).clip(lower=0).astype(int)\n",
        "\n",
        "  # Outer join tables\n",
        "  df_updated= pd.merge(df, grouped_df, left_on=['station_id','datatime_mtd'], right_on=['station_id','datatime_mtd'], how='outer')\n",
        "  if(df_updated.isna().sum().sum() == 0):\n",
        "    print(\"Join Successfull!!\")\n",
        "  else:\n",
        "    print(\"Join Failed: Nulls in the data indicates the grouped data has less number of entries\")\n",
        "\n",
        "  # Rename, remove unwanted and rearrange columns\n",
        "  df_updated.rename(columns={'docks_available_x': 'docks_available', 'bikes_available_x': 'bikes_available'}, inplace=True)\n",
        "  df_updated = df_updated[['cu_class_status','station_last_updated', 'status_last_reported', 'station_id', 'station_name', 'station_address', 'station_longitude', 'station_latitude', 'station_is_returning', 'station_is_renting', 'station_is_installed', 'station_type', 'docks_available', 'bikes_available', 'electic_bikes_available', 'smart_bikes_available', 'classic_bikes_available', 'station_capacity', 'new_docks_available', 'new_bikes_available', 'datatime_mtd','datatime_rnd', 'date_rnd', 'year_rnd', 'month_rnd', 'day_rnd', 'day_of_week_rnd', 'time_rnd', 'hour_rnd', 'minute_rnd', 'second_rnd']]\n",
        "\n",
        "  df=df_updated.copy()\n",
        "\n",
        "  # Sort the data by datetime\n",
        "  df.sort_values(by=['datatime_rnd'],inplace=True)\n",
        "  df.reset_index(inplace=True, drop=True)\n",
        "\n",
        "  # Calculate the next available bike and dock time for each station\n",
        "  def cal_next_avl_time(all_times, avl_times):\n",
        "    next_avl_time=[]\n",
        "    i=0\n",
        "    j=0\n",
        "    while j<len(avl_times) and i<len(all_times):\n",
        "      if (all_times[i]< avl_times[j]):\n",
        "        next_avl_time.append(avl_times[j])\n",
        "        i+=1\n",
        "      else:\n",
        "        j+=1\n",
        "    next_avl_time += [None]*(len(all_times)-len(next_avl_time))\n",
        "    return next_avl_time\n",
        "\n",
        "  # Calculate next available bike time\n",
        "  for i in df.station_id.unique():\n",
        "    mask = df['station_id']==i\n",
        "    data= df[mask]\n",
        "    all_times= data['datatime_rnd'].values\n",
        "    avl_times = data[data['new_bikes_available']>0]['datatime_rnd'].values\n",
        "    df.loc[df['station_id']==i, 'next_avl_bike_time'] = cal_next_avl_time(all_times, avl_times)\n",
        "\n",
        "  # Calculate next available dock time\n",
        "  for i in df.station_id.unique():\n",
        "    mask = df['station_id']==i\n",
        "    data= df[mask]\n",
        "    all_times= data['datatime_rnd'].values\n",
        "    avl_times = data[data['new_docks_available']>0]['datatime_rnd'].values\n",
        "    df.loc[df['station_id']==i, 'next_avl_dock_time'] = cal_next_avl_time(all_times, avl_times)\n",
        "\n",
        "\n",
        "  # Calculate the wait times\n",
        "\n",
        "  # Convert the datatime columns to from string to datetime format\n",
        "  df['datatime_rnd'] = pd.to_datetime(df['datatime_rnd'], format='%Y-%m-%d %H:%M:%S')\n",
        "  df['next_avl_bike_time'] = pd.to_datetime(df['next_avl_bike_time'], format='%Y-%m-%d %H:%M:%S')\n",
        "  df['next_avl_dock_time'] = pd.to_datetime(df['next_avl_dock_time'], format='%Y-%m-%d %H:%M:%S')\n",
        "\n",
        "  # Calculate the bike wait time\n",
        "  df['bike_wait_time'] = (df['next_avl_bike_time'] - df['datatime_rnd']).dt.total_seconds() / 60\n",
        "\n",
        "  # Calculate the dock wait time\n",
        "  df['dock_wait_time'] = (df['next_avl_dock_time'] - df['datatime_rnd']).dt.total_seconds() / 60\n",
        "\n",
        "  if(len(final_data)==0):\n",
        "    final_data= df\n",
        "  else:\n",
        "    final_data=pd.concat([final_data,df])\n",
        "\n",
        "print(final_data.shape)"
      ],
      "metadata": {
        "id": "kobjL6xUiN2k",
        "colab": {
          "base_uri": "https://localhost:8080/"
        },
        "outputId": "0aa0e1eb-1ca5-4400-e67e-e19f274c2385"
      },
      "execution_count": null,
      "outputs": [
        {
          "output_type": "stream",
          "name": "stdout",
          "text": [
            "Join Successfull!!\n",
            "Join Successfull!!\n",
            "Join Successfull!!\n",
            "Join Successfull!!\n",
            "Join Successfull!!\n",
            "Join Successfull!!\n",
            "Join Successfull!!\n",
            "(640926, 35)\n"
          ]
        }
      ]
    },
    {
      "cell_type": "code",
      "source": [
        "final_data['date_rnd'].unique()"
      ],
      "metadata": {
        "colab": {
          "base_uri": "https://localhost:8080/"
        },
        "id": "0tq8rQ0A7Smm",
        "outputId": "9d5455e1-f787-46f4-e199-1c1e9898103e"
      },
      "execution_count": null,
      "outputs": [
        {
          "output_type": "execute_result",
          "data": {
            "text/plain": [
              "array([datetime.date(2023, 10, 31), datetime.date(2023, 11, 1),\n",
              "       datetime.date(2023, 11, 2), datetime.date(2023, 11, 3),\n",
              "       datetime.date(2023, 11, 4), datetime.date(2023, 11, 5),\n",
              "       datetime.date(2023, 11, 6), datetime.date(2023, 11, 7),\n",
              "       datetime.date(2023, 11, 8), datetime.date(2023, 11, 9),\n",
              "       datetime.date(2023, 11, 10), datetime.date(2023, 11, 14),\n",
              "       datetime.date(2023, 11, 17), datetime.date(2023, 11, 18),\n",
              "       datetime.date(2023, 11, 19), datetime.date(2023, 11, 20),\n",
              "       datetime.date(2023, 11, 21), datetime.date(2023, 11, 22),\n",
              "       datetime.date(2023, 11, 23), datetime.date(2023, 11, 26),\n",
              "       datetime.date(2023, 11, 27), datetime.date(2023, 11, 28),\n",
              "       datetime.date(2023, 11, 29), datetime.date(2023, 12, 2),\n",
              "       datetime.date(2023, 12, 3), datetime.date(2023, 12, 4),\n",
              "       datetime.date(2023, 12, 5), datetime.date(2023, 12, 6),\n",
              "       datetime.date(2023, 12, 7)], dtype=object)"
            ]
          },
          "metadata": {},
          "execution_count": 30
        }
      ]
    },
    {
      "cell_type": "markdown",
      "source": [
        "Drop nulls in the Next avl time + wait time columns- as it is because of unavailablity of future data. This needs to be deleted as it does not contain the target value and it cannot it assumed.\n",
        "\n",
        "Replace nulls in the new_docks and bikes avl column- as it is because of unavailability of previous datetime data- it can be safely assumed zero- this is already covered."
      ],
      "metadata": {
        "id": "twxAyb9--uex"
      }
    },
    {
      "cell_type": "code",
      "source": [
        "df=final_data.copy()\n",
        "df.shape"
      ],
      "metadata": {
        "colab": {
          "base_uri": "https://localhost:8080/"
        },
        "id": "5Ve15uOA_J56",
        "outputId": "13286163-8b3a-499e-c882-11cf06047aa4"
      },
      "execution_count": null,
      "outputs": [
        {
          "output_type": "execute_result",
          "data": {
            "text/plain": [
              "(640926, 35)"
            ]
          },
          "metadata": {},
          "execution_count": 31
        }
      ]
    },
    {
      "cell_type": "code",
      "source": [
        "df.isna().sum()\n",
        "#df[['station_id','datatime_rnd','new_bikes_available','new_docks_available','bike_wait_time','dock_wait_time']].head()"
      ],
      "metadata": {
        "colab": {
          "base_uri": "https://localhost:8080/"
        },
        "id": "SPTNbxP5_OEK",
        "outputId": "f7eae427-8d86-476c-8684-8f836be4e488"
      },
      "execution_count": null,
      "outputs": [
        {
          "output_type": "execute_result",
          "data": {
            "text/plain": [
              "cu_class_status                0\n",
              "station_last_updated           0\n",
              "status_last_reported           0\n",
              "station_id                     0\n",
              "station_name                   0\n",
              "station_address                0\n",
              "station_longitude              0\n",
              "station_latitude               0\n",
              "station_is_returning           0\n",
              "station_is_renting             0\n",
              "station_is_installed           0\n",
              "station_type                   0\n",
              "docks_available                0\n",
              "bikes_available                0\n",
              "electic_bikes_available        0\n",
              "smart_bikes_available          0\n",
              "classic_bikes_available        0\n",
              "station_capacity               0\n",
              "new_docks_available            0\n",
              "new_bikes_available            0\n",
              "datatime_mtd                   0\n",
              "datatime_rnd                   0\n",
              "date_rnd                       0\n",
              "year_rnd                       0\n",
              "month_rnd                      0\n",
              "day_rnd                        0\n",
              "day_of_week_rnd                0\n",
              "time_rnd                       0\n",
              "hour_rnd                       0\n",
              "minute_rnd                     0\n",
              "second_rnd                     0\n",
              "next_avl_bike_time         35733\n",
              "next_avl_dock_time         40477\n",
              "bike_wait_time             35733\n",
              "dock_wait_time             40477\n",
              "dtype: int64"
            ]
          },
          "metadata": {},
          "execution_count": 32
        }
      ]
    },
    {
      "cell_type": "code",
      "source": [
        "df.dropna(inplace=True)\n",
        "df.isna().any().any()"
      ],
      "metadata": {
        "colab": {
          "base_uri": "https://localhost:8080/"
        },
        "id": "Yq3tYXG__OGV",
        "outputId": "94a547a3-957a-4a20-9a25-39eda0386755"
      },
      "execution_count": null,
      "outputs": [
        {
          "output_type": "execute_result",
          "data": {
            "text/plain": [
              "False"
            ]
          },
          "metadata": {},
          "execution_count": 33
        }
      ]
    },
    {
      "cell_type": "code",
      "source": [
        "df.shape"
      ],
      "metadata": {
        "colab": {
          "base_uri": "https://localhost:8080/"
        },
        "id": "z5NzFEOZAUSV",
        "outputId": "d04c5194-a05d-4f99-e4e2-000ad2a79fe0"
      },
      "execution_count": null,
      "outputs": [
        {
          "output_type": "execute_result",
          "data": {
            "text/plain": [
              "(592085, 35)"
            ]
          },
          "metadata": {},
          "execution_count": 34
        }
      ]
    },
    {
      "cell_type": "code",
      "source": [
        "df.to_csv('/content/drive/MyDrive/CSCI 5502 Data Mining/01 Project/Data/01_Preprocessed_Data/01_Master_Analysis_Data_10_31_12_07.csv',index=False)"
      ],
      "metadata": {
        "id": "0RnyYMDXAJou"
      },
      "execution_count": null,
      "outputs": []
    },
    {
      "cell_type": "markdown",
      "source": [
        "# 5. Merge Weather Data"
      ],
      "metadata": {
        "id": "UsqXL_00UQpd"
      }
    },
    {
      "cell_type": "code",
      "source": [
        "df= pd.read_csv('/content/drive/MyDrive/CSCI 5502 Data Mining/01 Project/Data/01_Preprocessed_Data/01_Master_Analysis_Data_10_31_12_07.csv')\n",
        "weather_df = pd.read_csv('/content/drive/MyDrive/CSCI 5502 Data Mining/01 Project/Data/00_Master_Data/Weather_Data/weather_oct31_dec7.csv')"
      ],
      "metadata": {
        "id": "qAZ0FCfHUcJl"
      },
      "execution_count": null,
      "outputs": []
    },
    {
      "cell_type": "code",
      "source": [
        "df['datatime_mtd'] = pd.to_datetime(df['datatime_mtd'], format='%Y-%m-%d %H:%M:%S')\n",
        "weather_df['date'] = pd.to_datetime(weather_df['date'], format='%d-%m-%Y %H:%M')"
      ],
      "metadata": {
        "id": "3aurPoPAlCqK"
      },
      "execution_count": null,
      "outputs": []
    },
    {
      "cell_type": "code",
      "source": [
        "# Assuming df1 contains data for every minute and df2 contains data for every hour\n",
        "\n",
        "# Round off the data time to the previous hour for matching with hourly weather data\n",
        "df['date_for_temp_matching'] = pd.to_datetime(df['datatime_rnd']).dt.floor('H')\n",
        "\n",
        "# Convert the datetime columns to datetime format if they aren't already\n",
        "weather_df['date'] = pd.to_datetime(weather_df['date'])\n",
        "\n",
        "# Merge df1 and df2 based on nearest timestamps\n",
        "#merged_df = pd.merge_asof(df, weather_df, left_on='date_for_temp_matching', right_on='date')\n",
        "merged_df= pd.merge(df, weather_df, left_on=['date_for_temp_matching'], right_on=['date'], how='left')\n",
        "\n",
        "# Drop unwanted columns\n",
        "unwanted_cols= ['Unnamed: 0','date_for_temp_matching']\n",
        "merged_df.drop(columns=unwanted_cols, inplace=True)\n",
        "\n",
        "# Rename temperature date\n",
        "merged_df.rename(columns={'date':'datetime_temperature'},inplace=True)"
      ],
      "metadata": {
        "id": "im7_eaEeUcMP"
      },
      "execution_count": null,
      "outputs": []
    },
    {
      "cell_type": "code",
      "source": [
        "if (merged_df.isna().any().any()==False):\n",
        "  print(\"Join Successfull :)\")\n",
        "else:\n",
        "  print(\"Join Failed :(\")"
      ],
      "metadata": {
        "colab": {
          "base_uri": "https://localhost:8080/"
        },
        "id": "e4tAxT8wXDsV",
        "outputId": "36863425-71ee-4b9b-f008-71aa37fd6918"
      },
      "execution_count": null,
      "outputs": [
        {
          "output_type": "stream",
          "name": "stdout",
          "text": [
            "Join Successfull :)\n"
          ]
        }
      ]
    },
    {
      "cell_type": "code",
      "source": [
        "merged_df.columns"
      ],
      "metadata": {
        "colab": {
          "base_uri": "https://localhost:8080/"
        },
        "id": "1W-jTHbLl9XE",
        "outputId": "218e853b-d330-4eea-dfad-1713d63ef452"
      },
      "execution_count": null,
      "outputs": [
        {
          "output_type": "execute_result",
          "data": {
            "text/plain": [
              "Index(['cu_class_status', 'station_last_updated', 'status_last_reported',\n",
              "       'station_id', 'station_name', 'station_address', 'station_longitude',\n",
              "       'station_latitude', 'station_is_returning', 'station_is_renting',\n",
              "       'station_is_installed', 'station_type', 'docks_available',\n",
              "       'bikes_available', 'electic_bikes_available', 'smart_bikes_available',\n",
              "       'classic_bikes_available', 'station_capacity', 'new_docks_available',\n",
              "       'new_bikes_available', 'datatime_mtd', 'datatime_rnd', 'date_rnd',\n",
              "       'year_rnd', 'month_rnd', 'day_rnd', 'day_of_week_rnd', 'time_rnd',\n",
              "       'hour_rnd', 'minute_rnd', 'second_rnd', 'next_avl_bike_time',\n",
              "       'next_avl_dock_time', 'bike_wait_time', 'dock_wait_time',\n",
              "       'datetime_temperature', 'temperature_2m', 'precipitation_probability',\n",
              "       'rain', 'snowfall', 'snow_depth', 'visibility'],\n",
              "      dtype='object')"
            ]
          },
          "metadata": {},
          "execution_count": 168
        }
      ]
    },
    {
      "cell_type": "code",
      "source": [
        "merged_df.to_csv('/content/drive/MyDrive/CSCI 5502 Data Mining/01 Project/Data/01_Preprocessed_Data/02_Master_Analysis_Data_With_Temp_10_31_12_07.csv', index=False)"
      ],
      "metadata": {
        "id": "1dLb4k4dUcUu"
      },
      "execution_count": null,
      "outputs": []
    },
    {
      "cell_type": "code",
      "source": [],
      "metadata": {
        "id": "Rvhep37NFJ5q"
      },
      "execution_count": null,
      "outputs": []
    }
  ]
}